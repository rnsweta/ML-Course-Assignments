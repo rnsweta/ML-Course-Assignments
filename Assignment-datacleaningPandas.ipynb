{
 "cells": [
  {
   "cell_type": "markdown",
   "metadata": {},
   "source": [
    "# 1. Some values in the the FlightNumber column are missing. These numbers are meant to increase by 10 with each row so 10055 and 10075 need to be put in place. Fill in these missing numbers and make the column an integer column (instead of a float column). "
   ]
  },
  {
   "cell_type": "code",
   "execution_count": 1,
   "metadata": {},
   "outputs": [
    {
     "name": "stdout",
     "output_type": "stream",
     "text": [
      "\n",
      "\n",
      "Before \n",
      "**********************************************************************\n",
      "            From_To  FlightNumber  RecentDelays              Airline\n",
      "0      LoNDon_paris           5.0      [23, 47]               KLM(!)\n",
      "1      MAdrid_miLAN           NaN            []    <Air France> (12)\n",
      "2  londON_StockhOlm       10065.0  [24, 43, 87]  (British Airways. )\n",
      "3    Budapest_Paris           NaN          [13]       12. Air France\n",
      "4   Brussels_londOn       10085.0      [67, 32]          \"Swiss Air\"\n",
      "\n",
      "\n",
      "\n",
      "\n",
      "From_To         object\n",
      "FlightNumber     int32\n",
      "RecentDelays    object\n",
      "Airline         object\n",
      "dtype: object\n",
      "\n",
      "\n",
      "After Change of data type\n",
      "**********************************************************************\n",
      "            From_To  FlightNumber  RecentDelays              Airline\n",
      "0      LoNDon_paris             5      [23, 47]               KLM(!)\n",
      "1      MAdrid_miLAN            15            []    <Air France> (12)\n",
      "2  londON_StockhOlm         10065  [24, 43, 87]  (British Airways. )\n",
      "3    Budapest_Paris         10075          [13]       12. Air France\n",
      "4   Brussels_londOn         10085      [67, 32]          \"Swiss Air\"\n",
      "\n",
      "\n"
     ]
    }
   ],
   "source": [
    "import pandas as pd\n",
    "import numpy as np\n",
    "import math\n",
    "\n",
    "df = pd.DataFrame({'From_To': ['LoNDon_paris', 'MAdrid_miLAN', 'londON_StockhOlm', \n",
    "                               'Budapest_Paris', 'Brussels_londOn'], 'FlightNumber': \n",
    "                   [5, np.nan, 10065, np.nan, 10085], 'RecentDelays': [[23, 47], [], [24, 43, 87], \n",
    "                [13], [67, 32]], 'Airline': ['KLM(!)', '<Air France> (12)', '(British Airways. )', \n",
    "                '12. Air France', '\"Swiss Air\"']})\n",
    "print ('\\n')\n",
    "print ('Before ')\n",
    "print('*'*70)\n",
    "print(df)\n",
    "print ('\\n')\n",
    "\n",
    "\n",
    "for ind in df.index: \n",
    "    if math.isnan(df.loc[ind,'FlightNumber']): #look for null values under column \"FlightNumber\"\n",
    "        df.loc[ind,'FlightNumber']=df.loc[ind-1,'FlightNumber']+10.0  #replacing the null values \n",
    "\n",
    "print ('\\n')\n",
    "df['FlightNumber']=df['FlightNumber'].astype('int') #changing the datatype\n",
    "\n",
    "print(df.dtypes)   #shows the df has been converted into int \n",
    "print ('\\n')\n",
    "print ('After Change of data type')\n",
    "print('*'*70)\n",
    "print(df)        \n",
    "print ('\\n')\n"
   ]
  },
  {
   "cell_type": "markdown",
   "metadata": {},
   "source": [
    "# 2. The From_To column would be better as two separate columns! Split each string on the underscore delimiter _ to give a new temporary DataFrame with the correct values. Assign the correct column names to this temporary DataFrame."
   ]
  },
  {
   "cell_type": "code",
   "execution_count": 2,
   "metadata": {
    "scrolled": true
   },
   "outputs": [
    {
     "name": "stdout",
     "output_type": "stream",
     "text": [
      "\n",
      "\n",
      "       From         To\n",
      "0    LoNDon      paris\n",
      "1    MAdrid      miLAN\n",
      "2    londON  StockhOlm\n",
      "3  Budapest      Paris\n",
      "4  Brussels     londOn\n",
      "\n",
      "\n"
     ]
    }
   ],
   "source": [
    "df_temp=df[\"From_To\"].str.split('_',1,expand=True) #temp dataframe with a column split into 2 seperated by \"_\"\n",
    "df_temp.columns=['From','To'] #renaming the split dataframes with new names\n",
    "print ('\\n')\n",
    "print(df_temp)\n",
    "print('\\n')\n"
   ]
  },
  {
   "cell_type": "markdown",
   "metadata": {},
   "source": [
    "# 3. Notice how the capitalisation of the city names is all mixed up in this temporary DataFrame. Standardise the strings so that only the first letter is uppercase (e.g. \"londON\" should become \"London\".)"
   ]
  },
  {
   "cell_type": "code",
   "execution_count": 3,
   "metadata": {},
   "outputs": [
    {
     "name": "stdout",
     "output_type": "stream",
     "text": [
      "\n",
      "\n",
      "       From         To\n",
      "0    London      Paris\n",
      "1    Madrid      Milan\n",
      "2    London  Stockholm\n",
      "3  Budapest      Paris\n",
      "4  Brussels     London\n",
      "\n",
      "\n"
     ]
    }
   ],
   "source": [
    "df_temp['From']= df_temp['From'].str.capitalize() #capitalizing the First letters\n",
    "df_temp['To']= df_temp['To'].str.capitalize()\n",
    "print ('\\n')\n",
    "print(df_temp)\n",
    "print('\\n')"
   ]
  },
  {
   "cell_type": "markdown",
   "metadata": {},
   "source": [
    "# 4.  Delete the From_To column from df and attach the temporary DataFrame from the previous questions"
   ]
  },
  {
   "cell_type": "code",
   "execution_count": 4,
   "metadata": {},
   "outputs": [
    {
     "name": "stdout",
     "output_type": "stream",
     "text": [
      "\n",
      "\n",
      "Deleting the columns in the Dataframe\n",
      "**********************************************************************\n",
      "   FlightNumber  RecentDelays              Airline\n",
      "0             5      [23, 47]               KLM(!)\n",
      "1            15            []    <Air France> (12)\n",
      "2         10065  [24, 43, 87]  (British Airways. )\n",
      "3         10075          [13]       12. Air France\n",
      "4         10085      [67, 32]          \"Swiss Air\"\n",
      "\n",
      "\n",
      "The updated dataframe\n",
      "**********************************************************************\n",
      "   FlightNumber  RecentDelays              Airline      From         To\n",
      "0             5      [23, 47]               KLM(!)    London      Paris\n",
      "1            15            []    <Air France> (12)    Madrid      Milan\n",
      "2         10065  [24, 43, 87]  (British Airways. )    London  Stockholm\n",
      "3         10075          [13]       12. Air France  Budapest      Paris\n",
      "4         10085      [67, 32]          \"Swiss Air\"  Brussels     London\n"
     ]
    }
   ],
   "source": [
    "print ('\\n')\n",
    "print(\"Deleting the columns in the Dataframe\")\n",
    "print('*'*70)\n",
    "df.drop('From_To',axis=1,inplace=True) #deleting the From_To column\n",
    "print(df)\n",
    "df['From'] = df_temp['From']\n",
    "df['To'] = df_temp['To']\n",
    "print ('\\n')\n",
    "print ('The updated dataframe')\n",
    "print('*'*70)\n",
    "print(df)\n"
   ]
  },
  {
   "cell_type": "markdown",
   "metadata": {},
   "source": [
    "# 5.  In the RecentDelays column, the values have been entered into the DataFrame as a list. We would like each first value in its own column, each second value in its own column, and so on. If there isn't an Nth value, the value should be NaN. Expand the Series of lists into a DataFrame named delays, rename the columns delay_1, delay_2, etc. and replace the unwanted RecentDelays column in df with delays."
   ]
  },
  {
   "cell_type": "code",
   "execution_count": 5,
   "metadata": {},
   "outputs": [
    {
     "name": "stdout",
     "output_type": "stream",
     "text": [
      "\n",
      "\n",
      "   FlightNumber              Airline      From         To  Delay_1  Delay_2  \\\n",
      "0             5               KLM(!)    London      Paris     23.0     47.0   \n",
      "1            15    <Air France> (12)    Madrid      Milan      NaN      NaN   \n",
      "2         10065  (British Airways. )    London  Stockholm     24.0     43.0   \n",
      "3         10075       12. Air France  Budapest      Paris     13.0      NaN   \n",
      "4         10085          \"Swiss Air\"  Brussels     London     67.0     32.0   \n",
      "\n",
      "   Delay_3  \n",
      "0      NaN  \n",
      "1      NaN  \n",
      "2     87.0  \n",
      "3      NaN  \n",
      "4      NaN  \n"
     ]
    }
   ],
   "source": [
    "df_delays = pd.DataFrame(df['RecentDelays'].values.tolist()) #extracting the column into a new dataframe\n",
    "\n",
    "length_cols = df_delays.shape[1] \n",
    "\n",
    "col_list = [] #initialize a list\n",
    "col_dict ={} #initialize a dictionary\n",
    "\n",
    "for i in range(length_cols):\n",
    "    Key = df_delays.columns[i]\n",
    "    Value = \"Delay\" + \"_\" + str(i+1)\n",
    "    col_dict[Key] = Value #dictionary with index corresponding to the new column names to be used\n",
    "\n",
    "df_delays.rename(columns=col_dict,inplace=True) #rename the new column names in the dataframe df_delays\n",
    "\n",
    "\n",
    "for i in range(len(col_dict)):# the original dataframe with additonal columns generated from RecentDelays\n",
    "    df[[col_dict[i]]]= df_delays[[col_dict[i]]] \n",
    "\n",
    "df.drop('RecentDelays',axis=1,inplace=True)#Deleting the RecentDelays column from the original dataframe\n",
    "print ('\\n')\n",
    "print(df)"
   ]
  },
  {
   "cell_type": "code",
   "execution_count": null,
   "metadata": {},
   "outputs": [],
   "source": []
  }
 ],
 "metadata": {
  "kernelspec": {
   "display_name": "Python 3",
   "language": "python",
   "name": "python3"
  },
  "language_info": {
   "codemirror_mode": {
    "name": "ipython",
    "version": 3
   },
   "file_extension": ".py",
   "mimetype": "text/x-python",
   "name": "python",
   "nbconvert_exporter": "python",
   "pygments_lexer": "ipython3",
   "version": "3.7.6"
  }
 },
 "nbformat": 4,
 "nbformat_minor": 4
}
