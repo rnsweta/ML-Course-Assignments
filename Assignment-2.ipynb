{
 "cells": [
  {
   "cell_type": "markdown",
   "metadata": {},
   "source": [
    "# Task 1, Q1.1 \n",
    "Write a Python Program to implement your own myreduce() function which works exactly like\n",
    "Python's built-in function reduce()"
   ]
  },
  {
   "cell_type": "code",
   "execution_count": 9,
   "metadata": {},
   "outputs": [
    {
     "name": "stdout",
     "output_type": "stream",
     "text": [
      "Using lambda function defined as sum:\n",
      "using inbuilt reduce result is: 14\n",
      "using myreduce result is:  14\n",
      "\n",
      "Using selfdefined function to calculate product:\n",
      "using inbuilt reduce result is: 72\n",
      "using myreduce result is:  72\n"
     ]
    }
   ],
   "source": [
    "import functools\n",
    "def myprod(x1,x2): #function to find the product of two numbers\n",
    "    return x1*x2   #returns the product\n",
    "\n",
    "def myreduce(funct, lst): #myreduce function to find the product of all the numbers in a list\n",
    "    pr_val = lst[0] # initialise the first value to start the product\n",
    "    for i in range(1,len(lst)):\n",
    "        pr_val = funct(pr_val, lst[i]) \n",
    "    return pr_val\n",
    "\n",
    "k= [1,3,2,1,4,3]\n",
    "\n",
    "print(\"Using lambda function defined as sum:\")\n",
    "print(\"using inbuilt reduce result is:\", functools.reduce(lambda x, y: x+y, k)) #python function to find the sum of all the numbers in a given list\n",
    "print(\"using myreduce result is: \", myreduce(lambda x, y: x+y, k))  #my own filter funtion to sum up all th enumbers in a given list\n",
    "\n",
    "print(\"\\nUsing selfdefined function to calculate product:\")\n",
    "print(\"using inbuilt reduce result is:\", myreduce(myprod, k)) #python reduce function to find the product of all the numbers in a given list\n",
    "print(\"using myreduce result is: \", myreduce(myprod, k)) #my own reduce function to find the product of all the numbers in a given list"
   ]
  },
  {
   "cell_type": "markdown",
   "metadata": {},
   "source": [
    "# Task 1, Q1.2\n",
    "Write a Python program to implement your own myfilter() function which works exactly like\n",
    "Python's built-in function filter()"
   ]
  },
  {
   "cell_type": "code",
   "execution_count": 10,
   "metadata": {},
   "outputs": [
    {
     "name": "stdout",
     "output_type": "stream",
     "text": [
      "result of my own filter function: [4, 5, 6, 7, 8, 9, 10]\n",
      "result of python filter function: [4, 5, 6, 7, 8, 9, 10]\n",
      "\n",
      "result of my own filter function: [1, 3, 5, 7, 9]\n",
      "result of python filter function: [1, 3, 5, 7, 9]\n"
     ]
    }
   ],
   "source": [
    "def myfilter(myfun,lst): # my own filter function\n",
    "    res=[] #declare an empty list\n",
    "    for i in lst :\n",
    "        if myfun(i):#function loops through the given list\n",
    "            res.append(i) #appends the empty list with the output of the function through the list\n",
    "    return res\n",
    "\n",
    "def isodd(x): #my own function to check if the given number is odd\n",
    "    if x%2!=0 :\n",
    "        return True # if the number is odd returns true\n",
    "    else :\n",
    "        return False #if the number is not odd, returns false\n",
    "    \n",
    "\n",
    "lst=[1,2,3,4,5,6,7,8,9,10] #list of numbers to be filtered\n",
    "\n",
    "print(\"result of my own filter function:\", myfilter(lambda x: x>3 ,lst)) #my own filter fuction filters all the numbers greater than 3 in the given list\n",
    "print(\"result of python filter function:\", list(filter(lambda x: x>3 ,lst))) # filter the list by the python filter function\n",
    "print(\"\\nresult of my own filter function:\", myfilter(isodd,lst)) #my own filter fuction filters all the numbers that are odd in the given list\n",
    "print(\"result of python filter function:\", list(filter(isodd,lst))) #python function to filter the odd numbers in a given list\n"
   ]
  },
  {
   "cell_type": "markdown",
   "metadata": {},
   "source": [
    "# Task 1, Q2\n",
    "Implement List comprehensions to produce the following lists.\n",
    "Write List comprehensions to produce the following \n",
    "Lists ['A', 'C', 'A', 'D', 'G', 'I', ’L’, ‘ D’]\n",
    "\n",
    "['x', 'xx', 'xxx', 'xxxx', 'y', 'yy', 'yyy', 'yyyy', 'z', 'zz', 'zzz', 'zzzz']\n",
    "\n",
    "['x', 'y', 'z', 'xx', 'yy', 'zz', 'xx', 'yy', 'zz', 'xxxx', 'yyyy', 'zzzz']\n",
    "\n",
    "[[2], [3], [4], [3], [4], [5], [4], [5], [6]]\n",
    "\n",
    "[[2, 3, 4, 5], [3, 4, 5, 6], [4, 5, 6, 7], [5, 6, 7, 8]]\n",
    "\n",
    "[(1, 1), (2, 1), (3, 1), (1, 2), (2, 2), (3, 2), (1, 3), (2, 3), (3, 3)]\n",
    "        "
   ]
  },
  {
   "cell_type": "code",
   "execution_count": null,
   "metadata": {},
   "outputs": [],
   "source": [
    "word = 'ACADGILD'\n",
    "letters = [ l for l in word ]\n",
    "l = list(word)\n",
    "\n",
    "print(\"The result is:\",letters)\n",
    "print(\"The result without list comprehensions:\", l)"
   ]
  },
  {
   "cell_type": "code",
   "execution_count": null,
   "metadata": {},
   "outputs": [],
   "source": [
    "#['x', 'xx', 'xxx', 'xxxx', 'y', 'yy', 'yyy', 'yyyy', 'z', 'zz', 'zzz', 'zzzz']\n",
    "\n",
    "l = ['x', 'y', 'z']\n",
    "l1 = [i*n for i in l for n in range(1,5)]\n",
    "print(\"The result is :\",l1)"
   ]
  },
  {
   "cell_type": "code",
   "execution_count": null,
   "metadata": {},
   "outputs": [],
   "source": [
    "#['x', 'y', 'z', 'xx', 'yy', 'zz', 'xx', 'yy', 'zz', 'xxxx', 'yyyy', 'zzzz']\n",
    "\n",
    "l = ['x', 'y', 'z']\n",
    "l1 = [i*n for n in range(1,5) for i in l]\n",
    "print(\"The result is :\",l1)"
   ]
  },
  {
   "cell_type": "code",
   "execution_count": null,
   "metadata": {},
   "outputs": [],
   "source": [
    "#[[2], [3], [4], [3], [4], [5], [4], [5], [6]]\n",
    "x=[1,2,3]\n",
    "l = [[i+j] for i in x for j in x ]\n",
    "print(\"The result is :\",l)"
   ]
  },
  {
   "cell_type": "code",
   "execution_count": null,
   "metadata": {},
   "outputs": [],
   "source": [
    "#[[2, 3, 4, 5], [3, 4, 5, 6], [4, 5, 6, 7], [5, 6, 7, 8]]\n",
    "\n",
    "x= [2,3,4,5]\n",
    "l = [ [i+j for i in x] for j in range(0,4) ]\n",
    "print(\"The result is :\",l)"
   ]
  },
  {
   "cell_type": "code",
   "execution_count": null,
   "metadata": {},
   "outputs": [],
   "source": [
    "#[(1, 1), (2, 1), (3, 1), (1, 2), (2, 2), (3, 2), (1, 3), (2, 3), (3, 3)]\n",
    "l = [(x,y) for y in range(1,4) for x in range(1,4)]\n",
    "print(\"The result is :\",l)"
   ]
  },
  {
   "cell_type": "markdown",
   "metadata": {},
   "source": [
    "# Task 1, Q3\n",
    "Implement a function longestWord() that takes a list of words and returns the longest one."
   ]
  },
  {
   "cell_type": "code",
   "execution_count": 11,
   "metadata": {},
   "outputs": [
    {
     "name": "stdout",
     "output_type": "stream",
     "text": [
      "enter the words:hh jkkl\n",
      "\n",
      "The longest word in the given list is/are: ['jkkl']\n"
     ]
    }
   ],
   "source": [
    "def longestword(l):\n",
    "    l1 = [len(l[i]) for i in range(0,len(l))] #length of words in the list\n",
    "    l2 = [] #initialize\n",
    "    l1_ind = [n for n,x in enumerate(l) if len(x)==max(l1)] #index of largest word\n",
    "    for i in l1_ind: #words corresponding to l1_ind\n",
    "        l2.append(l[i])\n",
    "    return(l2) #longest word\n",
    "\n",
    "wordlist= input(\"enter the words:\") #she is a kool fool\n",
    "myl = wordlist.split() #split the words into a list of words\n",
    "print(\"\\nThe longest word in the given list is/are:\", longestword(myl)) #function finds the longest word. "
   ]
  },
  {
   "cell_type": "markdown",
   "metadata": {},
   "source": [
    "# Task 2, Q1.1\n",
    "Write a Python Program(with class concepts) to find the area of the triangle using the below\n",
    "formula.\n",
    "area = (s*(s-a)*(s-b)*(s-c)) ** 0.5\n",
    "Function to take the length of the sides of triangle from user should be defined in the parent\n",
    "class and function to calculate the area should be defined in subclass."
   ]
  },
  {
   "cell_type": "code",
   "execution_count": 16,
   "metadata": {},
   "outputs": [
    {
     "name": "stdout",
     "output_type": "stream",
     "text": [
      "The area of triangle t1 with sides ( 3 , 4 , 5 ) is  6.0\n"
     ]
    }
   ],
   "source": [
    "class Sides: # to assign sides of a 3 sided polygon i.e. a triangle\n",
    "    def __init__(self, a,b,c):\n",
    "        self.a = a # a,b,c are the lengths of the three sides of a triangle\n",
    "        self.b = b\n",
    "        self.c = c\n",
    "        \n",
    "class Triangle(Sides):\n",
    "    def __init__(self,a,b,c):\n",
    "        Sides.__init__(self,a,b,c)        \n",
    "    def area(self):\n",
    "        s= (self.a+self.b+self.c)/2\n",
    "        return ((s*(s-self.a)*(s-self.b)*(s-self.c))**0.5)\n",
    "\n",
    "t1=Triangle(3,4,5)\n",
    "print(\"The area of triangle t1 with sides (\",t1.a,\",\",t1.b,\",\",t1.c,\") is \",t1.area())"
   ]
  },
  {
   "cell_type": "markdown",
   "metadata": {},
   "source": [
    "# Task 2, Q1.2\n",
    "Write a function filter_long_words() that takes a list of words and an integer n and returns the list\n",
    "of words that are longer than n."
   ]
  },
  {
   "cell_type": "code",
   "execution_count": 3,
   "metadata": {
    "scrolled": true
   },
   "outputs": [
    {
     "name": "stdout",
     "output_type": "stream",
     "text": [
      "Enter a list of words separated by space: nllajf   pokpoakdfaskaspof lmjlasmdlamsdlmasdlma lmsdl;maldmadlamdasd skkkkk\n",
      "input the value of m: 8\n",
      "The list of words longer than 8 are: ['pokpoakdfaskaspof', 'lmjlasmdlamsdlmasdlma', 'lmsdl;maldmadlamdasd']\n"
     ]
    }
   ],
   "source": [
    "def filter_long_words(l, m):\n",
    "    l_filtered = [x for n,x in enumerate(l) if(len(x)> m)]\n",
    "    return(l_filtered)\n",
    "    \n",
    "word_list = input(\"Enter a list of words separated by space: \")\n",
    "l = word_list.split()\n",
    "m = int(input(\"input the value of m: \"))\n",
    "\n",
    "print(\"The list of words longer than\", m, \"are:\", list(filter_long_words(l, m)))"
   ]
  },
  {
   "cell_type": "markdown",
   "metadata": {},
   "source": [
    "# Task 2, Q2\n",
    "Write a Python program using function concept that maps  list of words into a list of integers representing the lengths of the corresponding words\n",
    "\n",
    "Hint: If a list [ ab,cde,erty] is passed on to the python function output should come as [2,3,4]\n",
    "Here 2,3 and 4 are the lengths of the words in the list\n"
   ]
  },
  {
   "cell_type": "code",
   "execution_count": null,
   "metadata": {},
   "outputs": [],
   "source": [
    "def word_map(l):\n",
    "    w_map = [len(i) for i in l]\n",
    "    return w_map\n",
    "l = input(\"Enter a list of words:\") #['ab','cde', 'erty']\n",
    "l1 = l.split()\n",
    "\n",
    "print(\"list of lengths:\", word_map(l1))"
   ]
  },
  {
   "cell_type": "markdown",
   "metadata": {},
   "source": [
    "# Task 2, Q3\n",
    "Write a Python function which takes a character (i.e. a string of length 1) and returns True if it is\n",
    "a vowel, False otherwise"
   ]
  },
  {
   "cell_type": "code",
   "execution_count": null,
   "metadata": {},
   "outputs": [],
   "source": [
    "def isvowel(ch):\n",
    "    v = list(\"aeiouAEIOU\")\n",
    "    \n",
    "    if(ch in v): return True\n",
    "    else: return False\n",
    "\n",
    "ch = input(\"enter a character:\")[0] # extracts only the first character \n",
    "print(\"Is the entered character a vowel:\", isvowel(ch))\n",
    "        \n"
   ]
  },
  {
   "cell_type": "code",
   "execution_count": null,
   "metadata": {},
   "outputs": [],
   "source": []
  }
 ],
 "metadata": {
  "kernelspec": {
   "display_name": "Python 3",
   "language": "python",
   "name": "python3"
  },
  "language_info": {
   "codemirror_mode": {
    "name": "ipython",
    "version": 3
   },
   "file_extension": ".py",
   "mimetype": "text/x-python",
   "name": "python",
   "nbconvert_exporter": "python",
   "pygments_lexer": "ipython3",
   "version": "3.7.6"
  }
 },
 "nbformat": 4,
 "nbformat_minor": 4
}
