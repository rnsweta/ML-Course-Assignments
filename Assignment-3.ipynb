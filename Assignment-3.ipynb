{
 "cells": [
  {
   "cell_type": "markdown",
   "metadata": {},
   "source": [
    "# Task 1, Q1\n",
    "Write a function to compute 5/0 and use try/except to catch the exceptions."
   ]
  },
  {
   "cell_type": "code",
   "execution_count": 68,
   "metadata": {},
   "outputs": [
    {
     "name": "stdout",
     "output_type": "stream",
     "text": [
      "Caught Exception of type: division by zero\n",
      "Caught Exception of type: unsupported operand type(s) for /: 'str' and 'float'\n",
      "Yeah ! Your answer is : 4.0\n"
     ]
    }
   ],
   "source": [
    "def divide(x, y): \n",
    "    try: \n",
    "        result = x / y \n",
    "        print(\"Yeah ! Your answer is :\", result) \n",
    "    except Exception as einst: \n",
    "        print(\"Caught Exception of type:\", einst)\n",
    "\n",
    "divide(5,0)\n",
    "divide('abc',0.0) # Catches exception when we divide string by a number\n",
    "divide(20,5)"
   ]
  },
  {
   "cell_type": "markdown",
   "metadata": {},
   "source": [
    "# Task 1, Q2\n",
    "\n",
    "Implement a Python program to generate all sentences where subject is in [\"Americans\",\n",
    "\"Indians\"] and verb is in [\"Play\", \"watch\"] and the object is in [\"Baseball\",\"cricket\"].\n",
    "Hint: Subject,Verb and Object should be declared in the program as shown below.\n",
    "subjects=[\"Americans \",\"Indians\"]\n",
    "verbs=[\"play\",\"watch\"]\n",
    "objects=[\"Baseball\",\"Cricket\"]"
   ]
  },
  {
   "cell_type": "code",
   "execution_count": 69,
   "metadata": {},
   "outputs": [
    {
     "name": "stdout",
     "output_type": "stream",
     "text": [
      "Americans Play Baseball\n",
      "Americans Play cricket\n",
      "Americans watch Baseball\n",
      "Americans watch cricket\n",
      "Indians Play Baseball\n",
      "Indians Play cricket\n",
      "Indians watch Baseball\n",
      "Indians watch cricket\n"
     ]
    }
   ],
   "source": [
    "subj =  [\"Americans\", \"Indians\"] \n",
    "verb = [\"Play\", \"watch\"]\n",
    "obj = [\"Baseball\",\"cricket\"]\n",
    "\n",
    "sentence = [(s + \" \" + v +   \" \" + o) for s in subj for v in verb for o in obj ]\n",
    "for s in sentence :\n",
    "    print(s, end= \"\\n\")"
   ]
  },
  {
   "cell_type": "markdown",
   "metadata": {},
   "source": [
    "# Task 2, Q1\n",
    "Write a function so that the columns of the output matrix are powers of the input vector.\n",
    "The order of the powers is determined by the increasing boolean argument. \n",
    "Specifically when the increasing is False, the i-th output column is the input vector raised element-wise to the power of N-i-1"
   ]
  },
  {
   "cell_type": "code",
   "execution_count": null,
   "metadata": {},
   "outputs": [],
   "source": [
    "#creating a matrix with output columns based on input vector(N)\n",
    "#input_vector = [1,2,3,4]\n"
   ]
  },
  {
   "cell_type": "code",
   "execution_count": 20,
   "metadata": {},
   "outputs": [
    {
     "data": {
      "text/plain": [
       "array([[ 1,  1,  1],\n",
       "       [ 4,  2,  1],\n",
       "       [ 9,  3,  1],\n",
       "       [16,  4,  1],\n",
       "       [25,  5,  1]])"
      ]
     },
     "execution_count": 20,
     "metadata": {},
     "output_type": "execute_result"
    }
   ],
   "source": [
    "def vander(in_vector,n,increasing):\n",
    "    if(increasing == False):\n",
    "        op_matx = np.array([x**(n-1-i) for x in in_vector for i in range(n)]).reshape(in_vector.size,n)\n",
    "    else: \n",
    "        print(\"increasing boolean argument is not False, returning empty vector\")\n",
    "        op_matx=np.array([]);        \n",
    "\n",
    "    return(op_matx)\n",
    "\n",
    "\n",
    "import numpy as np\n",
    "n=3\n",
    "in_vector = np.array([1,2,3,4,5])\n",
    "out_vector =vander(in_vector, n,False)\n",
    "out_vector"
   ]
  }
 ],
 "metadata": {
  "kernelspec": {
   "display_name": "Python 3",
   "language": "python",
   "name": "python3"
  },
  "language_info": {
   "codemirror_mode": {
    "name": "ipython",
    "version": 3
   },
   "file_extension": ".py",
   "mimetype": "text/x-python",
   "name": "python",
   "nbconvert_exporter": "python",
   "pygments_lexer": "ipython3",
   "version": "3.7.6"
  }
 },
 "nbformat": 4,
 "nbformat_minor": 4
}
